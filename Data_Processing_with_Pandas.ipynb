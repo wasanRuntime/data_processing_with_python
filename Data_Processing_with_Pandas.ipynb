{
  "nbformat": 4,
  "nbformat_minor": 0,
  "metadata": {
    "colab": {
      "provenance": []
    },
    "kernelspec": {
      "name": "python3",
      "display_name": "Python 3"
    },
    "language_info": {
      "name": "python"
    }
  },
  "cells": [
    {
      "cell_type": "markdown",
      "source": [
        "# Spotify Top 50 Tracks 2020 Analysis\n",
        "\n",
        "## Project Overview\n",
        "As a data analyst at Spotify, the objective is to identify patterns in top-performing songs and answer specific business questions posed by the product manager, helping guide content strategy.\n"
      ],
      "metadata": {
        "id": "5990t3cdBRfr"
      }
    },
    {
      "cell_type": "markdown",
      "source": [
        "### Dataset Source\n",
        "The data used wsas downloaded from\n",
        "[Kaggle: Spotify Top 50 Tracks 2020](https://www.kaggle.com/datasets/atillacolak/top-50-spotify-tracks-2020). I uploaded it to my google drive and loaded it as shown in the following step"
      ],
      "metadata": {
        "id": "6_8r-8BeAzVS"
      }
    },
    {
      "cell_type": "markdown",
      "source": [
        "##  Load the Data\n",
        "The first step is to load the dataset into a Pandas DataFrame. You can use the following code to load the data and take a look at the first few rows:"
      ],
      "metadata": {
        "id": "Y0rgdIuokEI0"
      }
    },
    {
      "cell_type": "code",
      "source": [
        "from google.colab import drive\n",
        "drive.mount('/content/drive')"
      ],
      "metadata": {
        "colab": {
          "base_uri": "https://localhost:8080/"
        },
        "id": "rvv6ExyEkZIn",
        "outputId": "294cfbc5-e218-4788-f723-d0eaad86e615"
      },
      "execution_count": 25,
      "outputs": [
        {
          "output_type": "stream",
          "name": "stdout",
          "text": [
            "Drive already mounted at /content/drive; to attempt to forcibly remount, call drive.mount(\"/content/drive\", force_remount=True).\n"
          ]
        }
      ]
    },
    {
      "cell_type": "code",
      "execution_count": 31,
      "metadata": {
        "colab": {
          "base_uri": "https://localhost:8080/",
          "height": 399
        },
        "id": "WBibTaAGj2hO",
        "outputId": "1f573578-6a0e-44a6-fff4-bba44b78739b"
      },
      "outputs": [
        {
          "output_type": "execute_result",
          "data": {
            "text/plain": [
              "   Unnamed: 0       artist                                  album  \\\n",
              "0           0   The Weeknd                            After Hours   \n",
              "1           1  Tones And I                           Dance Monkey   \n",
              "2           2  Roddy Ricch  Please Excuse Me For Being Antisocial   \n",
              "3           3    SAINt JHN                  Roses (Imanbek Remix)   \n",
              "4           4     Dua Lipa                       Future Nostalgia   \n",
              "\n",
              "              track_name                track_id  energy  danceability  key  \\\n",
              "0        Blinding Lights  0VjIjW4GlUZAMYd2vXMi3b   0.730         0.514    1   \n",
              "1           Dance Monkey  1rgnBhdG2JDFTbYkYRZAku   0.593         0.825    6   \n",
              "2                The Box  0nbXyq5TXYPCO7pr3N8S4I   0.586         0.896   10   \n",
              "3  Roses - Imanbek Remix  2Wo6QQD1KMDWeFkkjLqwx5   0.721         0.785    8   \n",
              "4        Don't Start Now  3PfIrDoz19wz7qK7tYeu62   0.793         0.793   11   \n",
              "\n",
              "   loudness  acousticness  speechiness  instrumentalness  liveness  valence  \\\n",
              "0    -5.934       0.00146       0.0598          0.000095    0.0897    0.334   \n",
              "1    -6.401       0.68800       0.0988          0.000161    0.1700    0.540   \n",
              "2    -6.687       0.10400       0.0559          0.000000    0.7900    0.642   \n",
              "3    -5.457       0.01490       0.0506          0.004320    0.2850    0.894   \n",
              "4    -4.521       0.01230       0.0830          0.000000    0.0951    0.679   \n",
              "\n",
              "     tempo  duration_ms              genre  \n",
              "0  171.005       200040           R&B/Soul  \n",
              "1   98.078       209755  Alternative/Indie  \n",
              "2  116.971       196653        Hip-Hop/Rap  \n",
              "3  121.962       176219   Dance/Electronic  \n",
              "4  123.950       183290           Nu-disco  "
            ],
            "text/html": [
              "\n",
              "  <div id=\"df-13d33569-f56d-4712-bbd4-08b276412651\" class=\"colab-df-container\">\n",
              "    <div>\n",
              "<style scoped>\n",
              "    .dataframe tbody tr th:only-of-type {\n",
              "        vertical-align: middle;\n",
              "    }\n",
              "\n",
              "    .dataframe tbody tr th {\n",
              "        vertical-align: top;\n",
              "    }\n",
              "\n",
              "    .dataframe thead th {\n",
              "        text-align: right;\n",
              "    }\n",
              "</style>\n",
              "<table border=\"1\" class=\"dataframe\">\n",
              "  <thead>\n",
              "    <tr style=\"text-align: right;\">\n",
              "      <th></th>\n",
              "      <th>Unnamed: 0</th>\n",
              "      <th>artist</th>\n",
              "      <th>album</th>\n",
              "      <th>track_name</th>\n",
              "      <th>track_id</th>\n",
              "      <th>energy</th>\n",
              "      <th>danceability</th>\n",
              "      <th>key</th>\n",
              "      <th>loudness</th>\n",
              "      <th>acousticness</th>\n",
              "      <th>speechiness</th>\n",
              "      <th>instrumentalness</th>\n",
              "      <th>liveness</th>\n",
              "      <th>valence</th>\n",
              "      <th>tempo</th>\n",
              "      <th>duration_ms</th>\n",
              "      <th>genre</th>\n",
              "    </tr>\n",
              "  </thead>\n",
              "  <tbody>\n",
              "    <tr>\n",
              "      <th>0</th>\n",
              "      <td>0</td>\n",
              "      <td>The Weeknd</td>\n",
              "      <td>After Hours</td>\n",
              "      <td>Blinding Lights</td>\n",
              "      <td>0VjIjW4GlUZAMYd2vXMi3b</td>\n",
              "      <td>0.730</td>\n",
              "      <td>0.514</td>\n",
              "      <td>1</td>\n",
              "      <td>-5.934</td>\n",
              "      <td>0.00146</td>\n",
              "      <td>0.0598</td>\n",
              "      <td>0.000095</td>\n",
              "      <td>0.0897</td>\n",
              "      <td>0.334</td>\n",
              "      <td>171.005</td>\n",
              "      <td>200040</td>\n",
              "      <td>R&amp;B/Soul</td>\n",
              "    </tr>\n",
              "    <tr>\n",
              "      <th>1</th>\n",
              "      <td>1</td>\n",
              "      <td>Tones And I</td>\n",
              "      <td>Dance Monkey</td>\n",
              "      <td>Dance Monkey</td>\n",
              "      <td>1rgnBhdG2JDFTbYkYRZAku</td>\n",
              "      <td>0.593</td>\n",
              "      <td>0.825</td>\n",
              "      <td>6</td>\n",
              "      <td>-6.401</td>\n",
              "      <td>0.68800</td>\n",
              "      <td>0.0988</td>\n",
              "      <td>0.000161</td>\n",
              "      <td>0.1700</td>\n",
              "      <td>0.540</td>\n",
              "      <td>98.078</td>\n",
              "      <td>209755</td>\n",
              "      <td>Alternative/Indie</td>\n",
              "    </tr>\n",
              "    <tr>\n",
              "      <th>2</th>\n",
              "      <td>2</td>\n",
              "      <td>Roddy Ricch</td>\n",
              "      <td>Please Excuse Me For Being Antisocial</td>\n",
              "      <td>The Box</td>\n",
              "      <td>0nbXyq5TXYPCO7pr3N8S4I</td>\n",
              "      <td>0.586</td>\n",
              "      <td>0.896</td>\n",
              "      <td>10</td>\n",
              "      <td>-6.687</td>\n",
              "      <td>0.10400</td>\n",
              "      <td>0.0559</td>\n",
              "      <td>0.000000</td>\n",
              "      <td>0.7900</td>\n",
              "      <td>0.642</td>\n",
              "      <td>116.971</td>\n",
              "      <td>196653</td>\n",
              "      <td>Hip-Hop/Rap</td>\n",
              "    </tr>\n",
              "    <tr>\n",
              "      <th>3</th>\n",
              "      <td>3</td>\n",
              "      <td>SAINt JHN</td>\n",
              "      <td>Roses (Imanbek Remix)</td>\n",
              "      <td>Roses - Imanbek Remix</td>\n",
              "      <td>2Wo6QQD1KMDWeFkkjLqwx5</td>\n",
              "      <td>0.721</td>\n",
              "      <td>0.785</td>\n",
              "      <td>8</td>\n",
              "      <td>-5.457</td>\n",
              "      <td>0.01490</td>\n",
              "      <td>0.0506</td>\n",
              "      <td>0.004320</td>\n",
              "      <td>0.2850</td>\n",
              "      <td>0.894</td>\n",
              "      <td>121.962</td>\n",
              "      <td>176219</td>\n",
              "      <td>Dance/Electronic</td>\n",
              "    </tr>\n",
              "    <tr>\n",
              "      <th>4</th>\n",
              "      <td>4</td>\n",
              "      <td>Dua Lipa</td>\n",
              "      <td>Future Nostalgia</td>\n",
              "      <td>Don't Start Now</td>\n",
              "      <td>3PfIrDoz19wz7qK7tYeu62</td>\n",
              "      <td>0.793</td>\n",
              "      <td>0.793</td>\n",
              "      <td>11</td>\n",
              "      <td>-4.521</td>\n",
              "      <td>0.01230</td>\n",
              "      <td>0.0830</td>\n",
              "      <td>0.000000</td>\n",
              "      <td>0.0951</td>\n",
              "      <td>0.679</td>\n",
              "      <td>123.950</td>\n",
              "      <td>183290</td>\n",
              "      <td>Nu-disco</td>\n",
              "    </tr>\n",
              "  </tbody>\n",
              "</table>\n",
              "</div>\n",
              "    <div class=\"colab-df-buttons\">\n",
              "\n",
              "  <div class=\"colab-df-container\">\n",
              "    <button class=\"colab-df-convert\" onclick=\"convertToInteractive('df-13d33569-f56d-4712-bbd4-08b276412651')\"\n",
              "            title=\"Convert this dataframe to an interactive table.\"\n",
              "            style=\"display:none;\">\n",
              "\n",
              "  <svg xmlns=\"http://www.w3.org/2000/svg\" height=\"24px\" viewBox=\"0 -960 960 960\">\n",
              "    <path d=\"M120-120v-720h720v720H120Zm60-500h600v-160H180v160Zm220 220h160v-160H400v160Zm0 220h160v-160H400v160ZM180-400h160v-160H180v160Zm440 0h160v-160H620v160ZM180-180h160v-160H180v160Zm440 0h160v-160H620v160Z\"/>\n",
              "  </svg>\n",
              "    </button>\n",
              "\n",
              "  <style>\n",
              "    .colab-df-container {\n",
              "      display:flex;\n",
              "      gap: 12px;\n",
              "    }\n",
              "\n",
              "    .colab-df-convert {\n",
              "      background-color: #E8F0FE;\n",
              "      border: none;\n",
              "      border-radius: 50%;\n",
              "      cursor: pointer;\n",
              "      display: none;\n",
              "      fill: #1967D2;\n",
              "      height: 32px;\n",
              "      padding: 0 0 0 0;\n",
              "      width: 32px;\n",
              "    }\n",
              "\n",
              "    .colab-df-convert:hover {\n",
              "      background-color: #E2EBFA;\n",
              "      box-shadow: 0px 1px 2px rgba(60, 64, 67, 0.3), 0px 1px 3px 1px rgba(60, 64, 67, 0.15);\n",
              "      fill: #174EA6;\n",
              "    }\n",
              "\n",
              "    .colab-df-buttons div {\n",
              "      margin-bottom: 4px;\n",
              "    }\n",
              "\n",
              "    [theme=dark] .colab-df-convert {\n",
              "      background-color: #3B4455;\n",
              "      fill: #D2E3FC;\n",
              "    }\n",
              "\n",
              "    [theme=dark] .colab-df-convert:hover {\n",
              "      background-color: #434B5C;\n",
              "      box-shadow: 0px 1px 3px 1px rgba(0, 0, 0, 0.15);\n",
              "      filter: drop-shadow(0px 1px 2px rgba(0, 0, 0, 0.3));\n",
              "      fill: #FFFFFF;\n",
              "    }\n",
              "  </style>\n",
              "\n",
              "    <script>\n",
              "      const buttonEl =\n",
              "        document.querySelector('#df-13d33569-f56d-4712-bbd4-08b276412651 button.colab-df-convert');\n",
              "      buttonEl.style.display =\n",
              "        google.colab.kernel.accessAllowed ? 'block' : 'none';\n",
              "\n",
              "      async function convertToInteractive(key) {\n",
              "        const element = document.querySelector('#df-13d33569-f56d-4712-bbd4-08b276412651');\n",
              "        const dataTable =\n",
              "          await google.colab.kernel.invokeFunction('convertToInteractive',\n",
              "                                                    [key], {});\n",
              "        if (!dataTable) return;\n",
              "\n",
              "        const docLinkHtml = 'Like what you see? Visit the ' +\n",
              "          '<a target=\"_blank\" href=https://colab.research.google.com/notebooks/data_table.ipynb>data table notebook</a>'\n",
              "          + ' to learn more about interactive tables.';\n",
              "        element.innerHTML = '';\n",
              "        dataTable['output_type'] = 'display_data';\n",
              "        await google.colab.output.renderOutput(dataTable, element);\n",
              "        const docLink = document.createElement('div');\n",
              "        docLink.innerHTML = docLinkHtml;\n",
              "        element.appendChild(docLink);\n",
              "      }\n",
              "    </script>\n",
              "  </div>\n",
              "\n",
              "\n",
              "<div id=\"df-25b86ef7-2448-45ef-8726-272f08773797\">\n",
              "  <button class=\"colab-df-quickchart\" onclick=\"quickchart('df-25b86ef7-2448-45ef-8726-272f08773797')\"\n",
              "            title=\"Suggest charts\"\n",
              "            style=\"display:none;\">\n",
              "\n",
              "<svg xmlns=\"http://www.w3.org/2000/svg\" height=\"24px\"viewBox=\"0 0 24 24\"\n",
              "     width=\"24px\">\n",
              "    <g>\n",
              "        <path d=\"M19 3H5c-1.1 0-2 .9-2 2v14c0 1.1.9 2 2 2h14c1.1 0 2-.9 2-2V5c0-1.1-.9-2-2-2zM9 17H7v-7h2v7zm4 0h-2V7h2v10zm4 0h-2v-4h2v4z\"/>\n",
              "    </g>\n",
              "</svg>\n",
              "  </button>\n",
              "\n",
              "<style>\n",
              "  .colab-df-quickchart {\n",
              "      --bg-color: #E8F0FE;\n",
              "      --fill-color: #1967D2;\n",
              "      --hover-bg-color: #E2EBFA;\n",
              "      --hover-fill-color: #174EA6;\n",
              "      --disabled-fill-color: #AAA;\n",
              "      --disabled-bg-color: #DDD;\n",
              "  }\n",
              "\n",
              "  [theme=dark] .colab-df-quickchart {\n",
              "      --bg-color: #3B4455;\n",
              "      --fill-color: #D2E3FC;\n",
              "      --hover-bg-color: #434B5C;\n",
              "      --hover-fill-color: #FFFFFF;\n",
              "      --disabled-bg-color: #3B4455;\n",
              "      --disabled-fill-color: #666;\n",
              "  }\n",
              "\n",
              "  .colab-df-quickchart {\n",
              "    background-color: var(--bg-color);\n",
              "    border: none;\n",
              "    border-radius: 50%;\n",
              "    cursor: pointer;\n",
              "    display: none;\n",
              "    fill: var(--fill-color);\n",
              "    height: 32px;\n",
              "    padding: 0;\n",
              "    width: 32px;\n",
              "  }\n",
              "\n",
              "  .colab-df-quickchart:hover {\n",
              "    background-color: var(--hover-bg-color);\n",
              "    box-shadow: 0 1px 2px rgba(60, 64, 67, 0.3), 0 1px 3px 1px rgba(60, 64, 67, 0.15);\n",
              "    fill: var(--button-hover-fill-color);\n",
              "  }\n",
              "\n",
              "  .colab-df-quickchart-complete:disabled,\n",
              "  .colab-df-quickchart-complete:disabled:hover {\n",
              "    background-color: var(--disabled-bg-color);\n",
              "    fill: var(--disabled-fill-color);\n",
              "    box-shadow: none;\n",
              "  }\n",
              "\n",
              "  .colab-df-spinner {\n",
              "    border: 2px solid var(--fill-color);\n",
              "    border-color: transparent;\n",
              "    border-bottom-color: var(--fill-color);\n",
              "    animation:\n",
              "      spin 1s steps(1) infinite;\n",
              "  }\n",
              "\n",
              "  @keyframes spin {\n",
              "    0% {\n",
              "      border-color: transparent;\n",
              "      border-bottom-color: var(--fill-color);\n",
              "      border-left-color: var(--fill-color);\n",
              "    }\n",
              "    20% {\n",
              "      border-color: transparent;\n",
              "      border-left-color: var(--fill-color);\n",
              "      border-top-color: var(--fill-color);\n",
              "    }\n",
              "    30% {\n",
              "      border-color: transparent;\n",
              "      border-left-color: var(--fill-color);\n",
              "      border-top-color: var(--fill-color);\n",
              "      border-right-color: var(--fill-color);\n",
              "    }\n",
              "    40% {\n",
              "      border-color: transparent;\n",
              "      border-right-color: var(--fill-color);\n",
              "      border-top-color: var(--fill-color);\n",
              "    }\n",
              "    60% {\n",
              "      border-color: transparent;\n",
              "      border-right-color: var(--fill-color);\n",
              "    }\n",
              "    80% {\n",
              "      border-color: transparent;\n",
              "      border-right-color: var(--fill-color);\n",
              "      border-bottom-color: var(--fill-color);\n",
              "    }\n",
              "    90% {\n",
              "      border-color: transparent;\n",
              "      border-bottom-color: var(--fill-color);\n",
              "    }\n",
              "  }\n",
              "</style>\n",
              "\n",
              "  <script>\n",
              "    async function quickchart(key) {\n",
              "      const quickchartButtonEl =\n",
              "        document.querySelector('#' + key + ' button');\n",
              "      quickchartButtonEl.disabled = true;  // To prevent multiple clicks.\n",
              "      quickchartButtonEl.classList.add('colab-df-spinner');\n",
              "      try {\n",
              "        const charts = await google.colab.kernel.invokeFunction(\n",
              "            'suggestCharts', [key], {});\n",
              "      } catch (error) {\n",
              "        console.error('Error during call to suggestCharts:', error);\n",
              "      }\n",
              "      quickchartButtonEl.classList.remove('colab-df-spinner');\n",
              "      quickchartButtonEl.classList.add('colab-df-quickchart-complete');\n",
              "    }\n",
              "    (() => {\n",
              "      let quickchartButtonEl =\n",
              "        document.querySelector('#df-25b86ef7-2448-45ef-8726-272f08773797 button');\n",
              "      quickchartButtonEl.style.display =\n",
              "        google.colab.kernel.accessAllowed ? 'block' : 'none';\n",
              "    })();\n",
              "  </script>\n",
              "</div>\n",
              "\n",
              "    </div>\n",
              "  </div>\n"
            ],
            "application/vnd.google.colaboratory.intrinsic+json": {
              "type": "dataframe",
              "variable_name": "df",
              "summary": "{\n  \"name\": \"df\",\n  \"rows\": 50,\n  \"fields\": [\n    {\n      \"column\": \"Unnamed: 0\",\n      \"properties\": {\n        \"dtype\": \"number\",\n        \"std\": 14,\n        \"min\": 0,\n        \"max\": 49,\n        \"num_unique_values\": 50,\n        \"samples\": [\n          13,\n          39,\n          30\n        ],\n        \"semantic_type\": \"\",\n        \"description\": \"\"\n      }\n    },\n    {\n      \"column\": \"artist\",\n      \"properties\": {\n        \"dtype\": \"string\",\n        \"num_unique_values\": 40,\n        \"samples\": [\n          \"Jawsh 685\",\n          \"Doja Cat\",\n          \"Drake\"\n        ],\n        \"semantic_type\": \"\",\n        \"description\": \"\"\n      }\n    },\n    {\n      \"column\": \"album\",\n      \"properties\": {\n        \"dtype\": \"string\",\n        \"num_unique_values\": 45,\n        \"samples\": [\n          \"YHLQMDLG\",\n          \"WHEN WE ALL FALL ASLEEP, WHERE DO WE GO?\",\n          \"WAP (feat. Megan Thee Stallion)\"\n        ],\n        \"semantic_type\": \"\",\n        \"description\": \"\"\n      }\n    },\n    {\n      \"column\": \"track_name\",\n      \"properties\": {\n        \"dtype\": \"string\",\n        \"num_unique_values\": 50,\n        \"samples\": [\n          \"Blueberry Faygo\",\n          \"Ride It\",\n          \"Yummy\"\n        ],\n        \"semantic_type\": \"\",\n        \"description\": \"\"\n      }\n    },\n    {\n      \"column\": \"track_id\",\n      \"properties\": {\n        \"dtype\": \"string\",\n        \"num_unique_values\": 50,\n        \"samples\": [\n          \"22LAwLoDA5b4AaGSkg6bKW\",\n          \"2tnVG71enUj33Ic2nFN6kZ\",\n          \"16wAOAZ2OkqoIDN7TpChjR\"\n        ],\n        \"semantic_type\": \"\",\n        \"description\": \"\"\n      }\n    },\n    {\n      \"column\": \"energy\",\n      \"properties\": {\n        \"dtype\": \"number\",\n        \"std\": 0.15434816857629746,\n        \"min\": 0.225,\n        \"max\": 0.855,\n        \"num_unique_values\": 49,\n        \"samples\": [\n          0.554,\n          0.566,\n          0.473\n        ],\n        \"semantic_type\": \"\",\n        \"description\": \"\"\n      }\n    },\n    {\n      \"column\": \"danceability\",\n      \"properties\": {\n        \"dtype\": \"number\",\n        \"std\": 0.12497526939032248,\n        \"min\": 0.351,\n        \"max\": 0.935,\n        \"num_unique_values\": 48,\n        \"samples\": [\n          0.935,\n          0.716,\n          0.701\n        ],\n        \"semantic_type\": \"\",\n        \"description\": \"\"\n      }\n    },\n    {\n      \"column\": \"key\",\n      \"properties\": {\n        \"dtype\": \"number\",\n        \"std\": 3,\n        \"min\": 0,\n        \"max\": 11,\n        \"num_unique_values\": 12,\n        \"samples\": [\n          5,\n          7,\n          1\n        ],\n        \"semantic_type\": \"\",\n        \"description\": \"\"\n      }\n    },\n    {\n      \"column\": \"loudness\",\n      \"properties\": {\n        \"dtype\": \"number\",\n        \"std\": 2.3497437571977495,\n        \"min\": -14.454,\n        \"max\": -3.28,\n        \"num_unique_values\": 50,\n        \"samples\": [\n          -7.909,\n          -4.258,\n          -6.652\n        ],\n        \"semantic_type\": \"\",\n        \"description\": \"\"\n      }\n    },\n    {\n      \"column\": \"acousticness\",\n      \"properties\": {\n        \"dtype\": \"number\",\n        \"std\": 0.2652504754200667,\n        \"min\": 0.00146,\n        \"max\": 0.934,\n        \"num_unique_values\": 49,\n        \"samples\": [\n          0.207,\n          0.349,\n          0.0137\n        ],\n        \"semantic_type\": \"\",\n        \"description\": \"\"\n      }\n    },\n    {\n      \"column\": \"speechiness\",\n      \"properties\": {\n        \"dtype\": \"number\",\n        \"std\": 0.116836367503567,\n        \"min\": 0.029,\n        \"max\": 0.487,\n        \"num_unique_values\": 48,\n        \"samples\": [\n          0.0578,\n          0.0514,\n          0.375\n        ],\n        \"semantic_type\": \"\",\n        \"description\": \"\"\n      }\n    },\n    {\n      \"column\": \"instrumentalness\",\n      \"properties\": {\n        \"dtype\": \"number\",\n        \"std\": 0.09431165145317491,\n        \"min\": 0.0,\n        \"max\": 0.657,\n        \"num_unique_values\": 19,\n        \"samples\": [\n          9.54e-05,\n          0.00244,\n          1.39e-06\n        ],\n        \"semantic_type\": \"\",\n        \"description\": \"\"\n      }\n    },\n    {\n      \"column\": \"liveness\",\n      \"properties\": {\n        \"dtype\": \"number\",\n        \"std\": 0.176609946376708,\n        \"min\": 0.0574,\n        \"max\": 0.792,\n        \"num_unique_values\": 47,\n        \"samples\": [\n          0.0714,\n          0.792,\n          0.0824\n        ],\n        \"semantic_type\": \"\",\n        \"description\": \"\"\n      }\n    },\n    {\n      \"column\": \"valence\",\n      \"properties\": {\n        \"dtype\": \"number\",\n        \"std\": 0.21638641951615262,\n        \"min\": 0.0605,\n        \"max\": 0.925,\n        \"num_unique_values\": 47,\n        \"samples\": [\n          0.357,\n          0.43,\n          0.562\n        ],\n        \"semantic_type\": \"\",\n        \"description\": \"\"\n      }\n    },\n    {\n      \"column\": \"tempo\",\n      \"properties\": {\n        \"dtype\": \"number\",\n        \"std\": 25.414778362855365,\n        \"min\": 75.801,\n        \"max\": 180.067,\n        \"num_unique_values\": 50,\n        \"samples\": [\n          99.034,\n          117.948,\n          145.842\n        ],\n        \"semantic_type\": \"\",\n        \"description\": \"\"\n      }\n    },\n    {\n      \"column\": \"duration_ms\",\n      \"properties\": {\n        \"dtype\": \"number\",\n        \"std\": 33996,\n        \"min\": 140526,\n        \"max\": 312820,\n        \"num_unique_values\": 50,\n        \"samples\": [\n          162547,\n          157606,\n          208520\n        ],\n        \"semantic_type\": \"\",\n        \"description\": \"\"\n      }\n    },\n    {\n      \"column\": \"genre\",\n      \"properties\": {\n        \"dtype\": \"category\",\n        \"num_unique_values\": 16,\n        \"samples\": [\n          \"R&B/Soul\",\n          \"Alternative/Indie\",\n          \"Pop\"\n        ],\n        \"semantic_type\": \"\",\n        \"description\": \"\"\n      }\n    }\n  ]\n}"
            }
          },
          "metadata": {},
          "execution_count": 31
        }
      ],
      "source": [
        "import pandas as pd\n",
        "import numpy as np\n",
        "\n",
        "# Load the dataset\n",
        "df = pd.read_csv('/content/drive/MyDrive/Turing College/data/spotifytoptracks.csv')  # Replace with the correct path to your dataset\n",
        "\n",
        "# Preview the first few rows of the dataset\n",
        "df.head()\n"
      ]
    },
    {
      "cell_type": "markdown",
      "source": [
        "## Drop Unnamed: 0 After Loading\n",
        "We do not need the Unnamed: 0 column in the DataFrame, so let us drop it:"
      ],
      "metadata": {
        "id": "uMYcD4KYCZV2"
      }
    },
    {
      "cell_type": "code",
      "source": [
        "df =   df.drop(columns=['Unnamed: 0'])"
      ],
      "metadata": {
        "id": "-nTEMYrlCeDn"
      },
      "execution_count": 32,
      "outputs": []
    },
    {
      "cell_type": "code",
      "source": [
        "df.shape"
      ],
      "metadata": {
        "colab": {
          "base_uri": "https://localhost:8080/"
        },
        "id": "eKpEzwgi2pti",
        "outputId": "2522180a-84f4-4a44-b339-87cac7d933ab"
      },
      "execution_count": 33,
      "outputs": [
        {
          "output_type": "execute_result",
          "data": {
            "text/plain": [
              "(50, 16)"
            ]
          },
          "metadata": {},
          "execution_count": 33
        }
      ]
    },
    {
      "cell_type": "markdown",
      "source": [
        "## Data Cleaning\n",
        "Handling Missing Values:\n",
        "\n",
        "Identify any missing data and handle it. If some rows have missing values, decide whether to fill them with meaningful values (like mean or mode) or drop the rows."
      ],
      "metadata": {
        "id": "0zRTbMslmczY"
      }
    },
    {
      "cell_type": "code",
      "source": [
        "# Check for missing values\n",
        "missing_values = df.isnull().sum()\n",
        "\n",
        "# Check for duplicate rows\n",
        "duplicate_rows = df.duplicated().sum()\n",
        "\n",
        "# Display results\n",
        "print(\"Missing values:\\n\", missing_values)\n",
        "print(\"\\nNumber of duplicate rows:\", duplicate_rows)\n"
      ],
      "metadata": {
        "colab": {
          "base_uri": "https://localhost:8080/"
        },
        "id": "qqh_5NZ50qNs",
        "outputId": "5027dda2-7495-49c9-ad6c-679fdc566c1d"
      },
      "execution_count": 35,
      "outputs": [
        {
          "output_type": "stream",
          "name": "stdout",
          "text": [
            "Missing values:\n",
            " artist              0\n",
            "album               0\n",
            "track_name          0\n",
            "track_id            0\n",
            "energy              0\n",
            "danceability        0\n",
            "key                 0\n",
            "loudness            0\n",
            "acousticness        0\n",
            "speechiness         0\n",
            "instrumentalness    0\n",
            "liveness            0\n",
            "valence             0\n",
            "tempo               0\n",
            "duration_ms         0\n",
            "genre               0\n",
            "dtype: int64\n",
            "\n",
            "Number of duplicate rows: 0\n"
          ]
        }
      ]
    },
    {
      "cell_type": "markdown",
      "source": [
        "There are no missing values or duplicate rows in the dataset, so we can move directly to the next steps of our analysis."
      ],
      "metadata": {
        "id": "q-kuzf1oIrIP"
      }
    },
    {
      "cell_type": "markdown",
      "source": [
        "### Outlier Treatment with Z-Score\n",
        "To ensure our analysis isn't skewed by extreme values, we'll use z-scores to detect and remove outliers in our dataset.\n",
        "\n",
        "The **z-score** measures how far each data point is from the mean in terms of standard deviations. For a normal distribution:\n",
        "- About 99.7% of values fall within 3 standard deviations from the mean, following the 68-95-99.7 rule.\n",
        "  \n",
        "We'll exclude values with a z-score greater than 3 (or less than -3), as these are likely extreme outliers. This threshold helps retain most data points while removing only the most unusual ones.\n"
      ],
      "metadata": {
        "id": "g60nr1LfJc_D"
      }
    },
    {
      "cell_type": "code",
      "source": [
        "# Treating Outliers\n",
        "# Assuming numeric columns need outlier treatment. Using z-score approach for simplicity.\n",
        "from scipy.stats import zscore\n",
        "numeric_cols = df.select_dtypes(include=np.number).columns\n",
        "df = df[(zscore(df[numeric_cols]) <= 3).all(axis=1) & (zscore(df[numeric_cols]) >= -3).all(axis=1)] # Keep rows where no column has a z-score of >= 3 or <= -3\n",
        "\n",
        "# Display the shape of the DataFrame before and after outlier removal\n",
        "print(\"Shape after removing outliers:\", df.shape)"
      ],
      "metadata": {
        "colab": {
          "base_uri": "https://localhost:8080/"
        },
        "id": "NeVQDCRqIyYn",
        "outputId": "b9761158-0b13-421d-bc24-63ecc85db309"
      },
      "execution_count": 36,
      "outputs": [
        {
          "output_type": "stream",
          "name": "stdout",
          "text": [
            "Shape after removing outliers: (45, 16)\n"
          ]
        }
      ]
    },
    {
      "cell_type": "code",
      "source": [
        "df.shape"
      ],
      "metadata": {
        "colab": {
          "base_uri": "https://localhost:8080/"
        },
        "id": "IX8L6p5w2R1-",
        "outputId": "a7cc2fe1-88de-408a-897f-cddaa3efb6c8"
      },
      "execution_count": 37,
      "outputs": [
        {
          "output_type": "execute_result",
          "data": {
            "text/plain": [
              "(45, 16)"
            ]
          },
          "metadata": {},
          "execution_count": 37
        }
      ]
    },
    {
      "cell_type": "markdown",
      "source": [
        "# Exploratory Data Analysis (EDA)"
      ],
      "metadata": {
        "id": "gsxXJTKHHuVr"
      }
    },
    {
      "cell_type": "markdown",
      "source": [
        "### Q1: Number of observations"
      ],
      "metadata": {
        "id": "d_cyGg7dIDXC"
      }
    },
    {
      "cell_type": "code",
      "source": [
        "# Number of observations\n",
        "print(\"Number of observations:\", df.shape[0])\n",
        "\n"
      ],
      "metadata": {
        "colab": {
          "base_uri": "https://localhost:8080/"
        },
        "id": "iAks5QguUdWQ",
        "outputId": "27c17b1a-85a8-432f-eaf4-4050fd111b92"
      },
      "execution_count": 45,
      "outputs": [
        {
          "output_type": "stream",
          "name": "stdout",
          "text": [
            "Number of observations: 45\n"
          ]
        }
      ]
    },
    {
      "cell_type": "markdown",
      "source": [
        "### Q2: Number of features\n"
      ],
      "metadata": {
        "id": "bUqwsQQRIXZm"
      }
    },
    {
      "cell_type": "code",
      "source": [
        "# Number of features\n",
        "print(\"Number of features:\", df.shape[1])"
      ],
      "metadata": {
        "colab": {
          "base_uri": "https://localhost:8080/"
        },
        "id": "qldN2ZNUIk_m",
        "outputId": "8f83de0b-f7f7-4cca-d7f2-dfe4e3726439"
      },
      "execution_count": 46,
      "outputs": [
        {
          "output_type": "stream",
          "name": "stdout",
          "text": [
            "Number of features: 16\n"
          ]
        }
      ]
    },
    {
      "cell_type": "markdown",
      "source": [
        "### Q3: Categorical and numeric features"
      ],
      "metadata": {
        "id": "0op6OkuYIeII"
      }
    },
    {
      "cell_type": "code",
      "source": [
        "# Categorical  features\n",
        "categorical_features = df.select_dtypes(include=['object']).columns.tolist()\n",
        "print(\"Categorical features:\", categorical_features)"
      ],
      "metadata": {
        "colab": {
          "base_uri": "https://localhost:8080/"
        },
        "id": "jNfAjnalUktp",
        "outputId": "69272b12-b729-44ad-e667-710e043b0fe0"
      },
      "execution_count": 47,
      "outputs": [
        {
          "output_type": "stream",
          "name": "stdout",
          "text": [
            "Categorical features: ['artist', 'album', 'track_name', 'track_id', 'genre']\n"
          ]
        }
      ]
    },
    {
      "cell_type": "markdown",
      "source": [
        "### Q4: Numerical features"
      ],
      "metadata": {
        "id": "uOU4ChIOKlb6"
      }
    },
    {
      "cell_type": "code",
      "source": [
        "# Numerical features\n",
        "numeric_features = df.select_dtypes(include=[np.number]).columns.tolist()\n",
        "print(\"Numeric features:\", numeric_features)"
      ],
      "metadata": {
        "colab": {
          "base_uri": "https://localhost:8080/"
        },
        "id": "8WmqXljBLHFD",
        "outputId": "73902ca8-e43d-42e9-f3ef-ca1e0cd0ab8d"
      },
      "execution_count": 51,
      "outputs": [
        {
          "output_type": "stream",
          "name": "stdout",
          "text": [
            "Numeric features: ['energy', 'danceability', 'key', 'loudness', 'acousticness', 'speechiness', 'instrumentalness', 'liveness', 'valence', 'tempo', 'duration_ms']\n"
          ]
        }
      ]
    },
    {
      "cell_type": "markdown",
      "source": [
        "### Q5: Artists with more than 1 popular track"
      ],
      "metadata": {
        "id": "WaYDRnHUIzgU"
      }
    },
    {
      "cell_type": "code",
      "source": [
        "# Artists with more than 1 popular track\n",
        "popular_artists = df['artist'].value_counts()\n",
        "multiple_tracks_artists = popular_artists[popular_artists > 1]\n",
        "print(\"Artists with more than 1 popular track:\\n\", multiple_tracks_artists)"
      ],
      "metadata": {
        "colab": {
          "base_uri": "https://localhost:8080/"
        },
        "id": "rV4OC1KzUy9t",
        "outputId": "be380a04-3423-4f3d-8aab-33fe2170718b"
      },
      "execution_count": 52,
      "outputs": [
        {
          "output_type": "stream",
          "name": "stdout",
          "text": [
            "Artists with more than 1 popular track:\n",
            " artist\n",
            "Dua Lipa         3\n",
            "Harry Styles     2\n",
            "Lewis Capaldi    2\n",
            "Billie Eilish    2\n",
            "Post Malone      2\n",
            "Travis Scott     2\n",
            "Justin Bieber    2\n",
            "Name: count, dtype: int64\n"
          ]
        }
      ]
    },
    {
      "cell_type": "markdown",
      "source": [
        "### Q6: Most popular artist (assuming the artist with the most tracks)"
      ],
      "metadata": {
        "id": "ailPbrMEI4YH"
      }
    },
    {
      "cell_type": "code",
      "source": [
        "# Most popular artist (assuming the artist with the most tracks)\n",
        "most_popular_artist = popular_artists.idxmax()\n",
        "print(\"Most popular artist:\", most_popular_artist)\n"
      ],
      "metadata": {
        "colab": {
          "base_uri": "https://localhost:8080/"
        },
        "id": "PyOeMJg5VEiD",
        "outputId": "c7f91e02-9b55-463d-bef1-9340dd110dc0"
      },
      "execution_count": 53,
      "outputs": [
        {
          "output_type": "stream",
          "name": "stdout",
          "text": [
            "Most popular artist: Dua Lipa\n"
          ]
        }
      ]
    },
    {
      "cell_type": "markdown",
      "source": [
        "### Q7: Total number of unique artists in top 50"
      ],
      "metadata": {
        "id": "Zlipg4fmJCP-"
      }
    },
    {
      "cell_type": "code",
      "source": [
        "# Total number of unique artists in top 50\n",
        "unique_artists = df['artist'].nunique()\n",
        "print(\"Total number of unique artists:\", unique_artists)"
      ],
      "metadata": {
        "colab": {
          "base_uri": "https://localhost:8080/"
        },
        "id": "Q7suxD1MVMYf",
        "outputId": "7b0582d5-95f1-4c71-d0f0-01c9d4f49961"
      },
      "execution_count": 55,
      "outputs": [
        {
          "output_type": "stream",
          "name": "stdout",
          "text": [
            "Total number of unique artists: 37\n"
          ]
        }
      ]
    },
    {
      "cell_type": "markdown",
      "source": [
        "### Q8: Total number of unique albums in top 50"
      ],
      "metadata": {
        "id": "fmn3ihxgLthC"
      }
    },
    {
      "cell_type": "code",
      "source": [
        "# Total number of unique albums in top 50\n",
        "unique_albums = df['album'].nunique()\n",
        "print(\"Total number of unique albums:\", unique_albums)"
      ],
      "metadata": {
        "colab": {
          "base_uri": "https://localhost:8080/"
        },
        "id": "TEEryJ04VTzn",
        "outputId": "73cc9d41-2e7e-41b1-de4a-41d73b5653ad"
      },
      "execution_count": 57,
      "outputs": [
        {
          "output_type": "stream",
          "name": "stdout",
          "text": [
            "Total number of unique albums: 40\n"
          ]
        }
      ]
    },
    {
      "cell_type": "markdown",
      "source": [
        "### Q9: Tracks with danceability score above 0.7"
      ],
      "metadata": {
        "id": "SxxVrXYiL-b5"
      }
    },
    {
      "cell_type": "code",
      "source": [
        "# Tracks with danceability score above 0.7\n",
        "high_danceability_tracks = df[df['danceability'] > 0.7][['track_name', 'danceability']]\n",
        "print(\"Tracks with danceability > 0.7:\\n\", high_danceability_tracks)"
      ],
      "metadata": {
        "colab": {
          "base_uri": "https://localhost:8080/"
        },
        "id": "LgSyotvQV3wG",
        "outputId": "e224c400-a05d-4dd0-d8ca-c9e1accfde47"
      },
      "execution_count": 58,
      "outputs": [
        {
          "output_type": "stream",
          "name": "stdout",
          "text": [
            "Tracks with danceability > 0.7:\n",
            "                                        track_name  danceability\n",
            "1                                    Dance Monkey         0.825\n",
            "3                           Roses - Imanbek Remix         0.785\n",
            "4                                 Don't Start Now         0.793\n",
            "5                    ROCKSTAR (feat. Roddy Ricch)         0.746\n",
            "7                death bed (coffee for your head)         0.726\n",
            "8                                         Falling         0.784\n",
            "10                                           Tusa         0.803\n",
            "13                                Blueberry Faygo         0.774\n",
            "14                       Intentions (feat. Quavo)         0.806\n",
            "15                                   Toosie Slide         0.830\n",
            "17                                         Say So         0.787\n",
            "18                                       Memories         0.764\n",
            "20               Savage Love (Laxed - Siren Beat)         0.767\n",
            "22                                    Breaking Me         0.789\n",
            "25                                       Señorita         0.759\n",
            "26                                        bad guy         0.701\n",
            "27                WAP (feat. Megan Thee Stallion)         0.935\n",
            "28                                    Sunday Best         0.878\n",
            "29                    Godzilla (feat. Juice WRLD)         0.808\n",
            "31                                 Break My Heart         0.730\n",
            "32                                       Dynamite         0.746\n",
            "33               Supalonely (feat. Gus Dapperton)         0.862\n",
            "37  Sunflower - Spider-Man: Into the Spider-Verse         0.755\n",
            "38                                          Hawái         0.783\n",
            "39                                        Ride It         0.880\n",
            "40                                     goosebumps         0.841\n",
            "42                                     THE SCOTTS         0.716\n"
          ]
        }
      ]
    },
    {
      "cell_type": "markdown",
      "source": [
        "### Q10: Tracks with danceability score below 0.4"
      ],
      "metadata": {
        "id": "1lFof1qOMJnM"
      }
    },
    {
      "cell_type": "code",
      "source": [
        "# Tracks with danceability score below 0.4\n",
        "low_danceability_tracks = df[df['danceability'] < 0.4][['track_name', 'danceability']]\n",
        "print(\"Tracks with danceability < 0.4:\\n\", low_danceability_tracks)"
      ],
      "metadata": {
        "colab": {
          "base_uri": "https://localhost:8080/"
        },
        "id": "ww5vUDB2WLce",
        "outputId": "ad30e25d-b84d-4332-d266-dba8666bf26e"
      },
      "execution_count": 59,
      "outputs": [
        {
          "output_type": "stream",
          "name": "stdout",
          "text": [
            "Tracks with danceability < 0.4:\n",
            "               track_name  danceability\n",
            "44  lovely (with Khalid)         0.351\n"
          ]
        }
      ]
    },
    {
      "cell_type": "markdown",
      "source": [
        "### Q11: Tracks with loudness above -5"
      ],
      "metadata": {
        "id": "80VteGMDMO_W"
      }
    },
    {
      "cell_type": "code",
      "source": [
        "# Tracks with loudness above -5\n",
        "high_loudness_tracks = df[df['loudness'] > -5][['track_name', 'loudness']]\n",
        "print(\"Tracks with loudness > -5:\\n\", high_loudness_tracks)\n"
      ],
      "metadata": {
        "colab": {
          "base_uri": "https://localhost:8080/"
        },
        "id": "4Axa9N58Wban",
        "outputId": "a5133a62-ed33-4e5d-d55d-73e401d96d66"
      },
      "execution_count": 60,
      "outputs": [
        {
          "output_type": "stream",
          "name": "stdout",
          "text": [
            "Tracks with loudness > -5:\n",
            "                                        track_name  loudness\n",
            "4                                 Don't Start Now    -4.521\n",
            "6                                Watermelon Sugar    -4.209\n",
            "10                                           Tusa    -3.280\n",
            "12                                        Circles    -3.497\n",
            "16                                  Before You Go    -4.858\n",
            "17                                         Say So    -4.577\n",
            "21                                      Adore You    -3.675\n",
            "23                         Mood (feat. iann dior)    -3.558\n",
            "31                                 Break My Heart    -3.434\n",
            "32                                       Dynamite    -4.410\n",
            "33               Supalonely (feat. Gus Dapperton)    -4.746\n",
            "35                Rain On Me (with Ariana Grande)    -3.764\n",
            "37  Sunflower - Spider-Man: Into the Spider-Verse    -4.368\n",
            "38                                          Hawái    -3.454\n",
            "39                                        Ride It    -4.258\n",
            "40                                     goosebumps    -3.370\n",
            "43                                        Safaera    -4.074\n",
            "48                                       Physical    -3.756\n"
          ]
        }
      ]
    },
    {
      "cell_type": "markdown",
      "source": [
        "### Q12: Tracks with loudness below -8"
      ],
      "metadata": {
        "id": "isDquWNpMW4Q"
      }
    },
    {
      "cell_type": "code",
      "source": [
        "# Tracks with loudness below -8\n",
        "low_loudness_tracks = df[df['loudness'] < -8][['track_name', 'loudness']]\n",
        "print(\"Tracks with loudness < -8:\\n\", low_loudness_tracks)"
      ],
      "metadata": {
        "colab": {
          "base_uri": "https://localhost:8080/"
        },
        "id": "G-kZvbINWnQo",
        "outputId": "034a4c62-03c3-436d-e8b8-5816b2b4dd0c"
      },
      "execution_count": 61,
      "outputs": [
        {
          "output_type": "stream",
          "name": "stdout",
          "text": [
            "Tracks with loudness < -8:\n",
            "                                         track_name  loudness\n",
            "7                 death bed (coffee for your head)    -8.765\n",
            "8                                          Falling    -8.756\n",
            "15                                    Toosie Slide    -8.820\n",
            "20                Savage Love (Laxed - Siren Beat)    -8.520\n",
            "26                                         bad guy   -10.965\n",
            "36                             HIGHEST IN THE ROOM    -8.764\n",
            "44                            lovely (with Khalid)   -10.109\n",
            "47  If the World Was Ending - feat. Julia Michaels   -10.086\n"
          ]
        }
      ]
    },
    {
      "cell_type": "markdown",
      "source": [
        "### Q13: Longest track"
      ],
      "metadata": {
        "id": "eQJohKPWMdqE"
      }
    },
    {
      "cell_type": "code",
      "source": [
        "# Longest track\n",
        "longest_track = df.loc[df['duration_ms'].idxmax()][['track_name', 'duration_ms']]\n",
        "print(\"Longest track:\\n\", longest_track)"
      ],
      "metadata": {
        "colab": {
          "base_uri": "https://localhost:8080/"
        },
        "id": "CsZE9lprWxXW",
        "outputId": "d068c3bb-7198-44a3-b943-933ddf251974"
      },
      "execution_count": 63,
      "outputs": [
        {
          "output_type": "stream",
          "name": "stdout",
          "text": [
            "Longest track:\n",
            " track_name     Safaera\n",
            "duration_ms     295177\n",
            "Name: 43, dtype: object\n"
          ]
        }
      ]
    },
    {
      "cell_type": "markdown",
      "source": [
        "### Q14: Shortest track"
      ],
      "metadata": {
        "id": "QuRPt--cMmxx"
      }
    },
    {
      "cell_type": "code",
      "source": [
        "#  Shortest track\n",
        "shortest_track = df.loc[df['duration_ms'].idxmin()][['track_name', 'duration_ms']]\n",
        "print(\"Shortest track:\\n\", shortest_track)"
      ],
      "metadata": {
        "colab": {
          "base_uri": "https://localhost:8080/"
        },
        "id": "ySoSXzwDW9i1",
        "outputId": "afda8bd1-15d7-4f30-a63e-07c53ca87458"
      },
      "execution_count": 64,
      "outputs": [
        {
          "output_type": "stream",
          "name": "stdout",
          "text": [
            "Shortest track:\n",
            " track_name     Mood (feat. iann dior)\n",
            "duration_ms                    140526\n",
            "Name: 23, dtype: object\n"
          ]
        }
      ]
    },
    {
      "cell_type": "markdown",
      "source": [
        "### Q15: Most popular genre (assuming genre with the most tracks)"
      ],
      "metadata": {
        "id": "uY89lbjyMuDz"
      }
    },
    {
      "cell_type": "code",
      "source": [
        "# Most popular genre (assuming genre with the most tracks)\n",
        "most_popular_genre = df['genre'].mode()[0]\n",
        "print(\"Most popular genre:\", most_popular_genre)"
      ],
      "metadata": {
        "colab": {
          "base_uri": "https://localhost:8080/"
        },
        "id": "HciaVavgXqn-",
        "outputId": "1beddd9d-e2f9-4b48-8637-7f400798286f"
      },
      "execution_count": 65,
      "outputs": [
        {
          "output_type": "stream",
          "name": "stdout",
          "text": [
            "Most popular genre: Pop\n"
          ]
        }
      ]
    },
    {
      "cell_type": "markdown",
      "source": [
        "### Q16: Genres with only one song in top 50"
      ],
      "metadata": {
        "id": "NCmgSxCiM1NA"
      }
    },
    {
      "cell_type": "code",
      "source": [
        "# Genres with only one song in top 50\n",
        "genres_single_track = df['genre'].value_counts()[df['genre'].value_counts() == 1]\n",
        "print(\"Genres with only one song in top 50:\\n\", genres_single_track)"
      ],
      "metadata": {
        "colab": {
          "base_uri": "https://localhost:8080/"
        },
        "id": "WIrku9muXzL1",
        "outputId": "01929cb7-9282-45f9-f96f-05bc1713d40b"
      },
      "execution_count": 67,
      "outputs": [
        {
          "output_type": "stream",
          "name": "stdout",
          "text": [
            "Genres with only one song in top 50:\n",
            " genre\n",
            "Nu-disco                              1\n",
            "R&B/Hip-Hop alternative               1\n",
            "Pop/Soft Rock                         1\n",
            "Pop rap                               1\n",
            "Hip-Hop/Trap                          1\n",
            "Dance-pop/Disco                       1\n",
            "Disco-pop                             1\n",
            "Dreampop/Hip-Hop/R&B                  1\n",
            "Alternative/reggaeton/experimental    1\n",
            "Chamber pop                           1\n",
            "Name: count, dtype: int64\n"
          ]
        }
      ]
    },
    {
      "cell_type": "markdown",
      "source": [
        "### Q17: Total number of genres represented in the top 50"
      ],
      "metadata": {
        "id": "8qtaBxx5M8sx"
      }
    },
    {
      "cell_type": "code",
      "source": [
        "# Total number of genres represented in the top 50\n",
        "total_genres = df['genre'].nunique()\n",
        "print(\"Total number of genres:\", total_genres)"
      ],
      "metadata": {
        "colab": {
          "base_uri": "https://localhost:8080/"
        },
        "id": "7XWMDA0fX6gp",
        "outputId": "a436f551-8ebf-493f-c8ed-b94d1c23cd70"
      },
      "execution_count": 68,
      "outputs": [
        {
          "output_type": "stream",
          "name": "stdout",
          "text": [
            "Total number of genres: 16\n"
          ]
        }
      ]
    },
    {
      "cell_type": "markdown",
      "source": [
        "### Q18: Compute correlation matrix"
      ],
      "metadata": {
        "id": "Lzm9Xul4Ngcg"
      }
    },
    {
      "cell_type": "code",
      "source": [
        "# Select only numerical columns\n",
        "numeric_df = df.select_dtypes(include=['float64', 'int64'])\n",
        "\n",
        "# Compute correlation matrix\n",
        "correlation_matrix = numeric_df.corr()\n",
        "\n",
        "# Strong positive correlations (above 0.7, excluding self-correlation)\n",
        "strong_positive_corr = correlation_matrix[correlation_matrix > 0.7].stack().dropna()\n",
        "strong_positive_corr = strong_positive_corr[strong_positive_corr < 1]  # Remove self-correlations\n",
        "print(\"Strongly positively correlated features:\\n\", strong_positive_corr)\n",
        "\n",
        "# Strong negative correlations (below -0.7)\n",
        "strong_negative_corr = correlation_matrix[correlation_matrix < -0.7].stack().dropna()\n",
        "print(\"\\nStrongly negatively correlated features:\\n\", strong_negative_corr)\n",
        "\n",
        "# Weak correlations (between -0.1 and 0.1)\n",
        "weak_corr = correlation_matrix[(correlation_matrix > -0.1) & (correlation_matrix < 0.1)].stack().dropna()\n",
        "print(\"\\nFeatures that are weakly correlated:\\n\", weak_corr)\n"
      ],
      "metadata": {
        "colab": {
          "base_uri": "https://localhost:8080/"
        },
        "id": "NzafxeSxZbQr",
        "outputId": "eb147f59-896c-439e-b01d-51c15ed77ee0"
      },
      "execution_count": 69,
      "outputs": [
        {
          "output_type": "stream",
          "name": "stdout",
          "text": [
            "Strongly positively correlated features:\n",
            " energy    loudness    0.764852\n",
            "loudness  energy      0.764852\n",
            "dtype: float64\n",
            "\n",
            "Strongly negatively correlated features:\n",
            " Series([], dtype: float64)\n",
            "\n",
            "Features that are weakly correlated:\n",
            " energy            key                 0.047830\n",
            "                  speechiness         0.088558\n",
            "                  liveness            0.031172\n",
            "                  tempo               0.073577\n",
            "danceability      instrumentalness   -0.006744\n",
            "key               energy              0.047830\n",
            "                  loudness           -0.008471\n",
            "                  acousticness       -0.097976\n",
            "                  speechiness        -0.019792\n",
            "                  instrumentalness    0.059855\n",
            "                  duration_ms        -0.047521\n",
            "loudness          key                -0.008471\n",
            "                  speechiness        -0.053342\n",
            "                  liveness           -0.086091\n",
            "                  tempo               0.092170\n",
            "acousticness      key                -0.097976\n",
            "                  speechiness        -0.099744\n",
            "                  instrumentalness    0.032809\n",
            "                  liveness           -0.021335\n",
            "                  duration_ms         0.015146\n",
            "speechiness       energy              0.088558\n",
            "                  key                -0.019792\n",
            "                  loudness           -0.053342\n",
            "                  acousticness       -0.099744\n",
            "                  liveness           -0.076855\n",
            "                  valence             0.087663\n",
            "instrumentalness  danceability       -0.006744\n",
            "                  key                 0.059855\n",
            "                  acousticness        0.032809\n",
            "                  liveness           -0.080374\n",
            "                  valence             0.007031\n",
            "                  tempo               0.097205\n",
            "                  duration_ms        -0.008841\n",
            "liveness          energy              0.031172\n",
            "                  loudness           -0.086091\n",
            "                  acousticness       -0.021335\n",
            "                  speechiness        -0.076855\n",
            "                  instrumentalness   -0.080374\n",
            "valence           speechiness         0.087663\n",
            "                  instrumentalness    0.007031\n",
            "                  tempo               0.074522\n",
            "                  duration_ms         0.042553\n",
            "tempo             energy              0.073577\n",
            "                  loudness            0.092170\n",
            "                  instrumentalness    0.097205\n",
            "                  valence             0.074522\n",
            "                  duration_ms         0.020240\n",
            "duration_ms       key                -0.047521\n",
            "                  acousticness        0.015146\n",
            "                  instrumentalness   -0.008841\n",
            "                  valence             0.042553\n",
            "                  tempo               0.020240\n",
            "dtype: float64\n"
          ]
        }
      ]
    },
    {
      "cell_type": "markdown",
      "source": [
        "## Genre Comparison"
      ],
      "metadata": {
        "id": "Nt1IFsvSPnw0"
      }
    },
    {
      "cell_type": "code",
      "source": [
        "import matplotlib.pyplot as plt\n",
        "import seaborn as sns\n",
        "\n",
        "# We are comparing the `danceability`, `loudness`, and `acousticness` scores\n",
        "# across four music genres: Pop, Hip-Hop/Rap, Dance/Electronic, and Alternative/Indie.\n",
        "# Box plots will be used for clear comparison of the distributions of these\n",
        "# features.\n",
        "\n",
        "# Filter the DataFrame to include only the selected genres\n",
        "genres_to_compare = [\"Pop\", \"Hip-Hop/Rap\", \"Dance/Electronic\", \"Alternative/Indie\"]\n",
        "df_filtered = df[df['genre'].isin(genres_to_compare)]"
      ],
      "metadata": {
        "id": "crO4It-FP5aD"
      },
      "execution_count": 73,
      "outputs": []
    },
    {
      "cell_type": "markdown",
      "source": [
        "### Q19:  Comparison of Danceability Scores Across Genres"
      ],
      "metadata": {
        "id": "zXgznXL-QiLO"
      }
    },
    {
      "cell_type": "code",
      "source": [
        "# Create a box plot for danceability comparison across the genres\n",
        "plt.figure(figsize=(10, 5))\n",
        "sns.boxplot(data=df_filtered, x='genre', y='danceability', order=genres_to_compare)\n",
        "plt.title(\"Danceability Comparison Across Genres\")\n",
        "plt.xlabel(\"Genre\")\n",
        "plt.ylabel(\"Danceability Score\")\n",
        "plt.show()"
      ],
      "metadata": {
        "colab": {
          "base_uri": "https://localhost:8080/",
          "height": 487
        },
        "id": "IWkb9o7DOmO0",
        "outputId": "1176fb6e-20a4-4635-cb03-582fe2eaa655"
      },
      "execution_count": 74,
      "outputs": [
        {
          "output_type": "display_data",
          "data": {
            "text/plain": [
              "<Figure size 1000x500 with 1 Axes>"
            ],
            "image/png": "[encoded data removed]"
          },
          "metadata": {}
        }
      ]
    },
    {
      "cell_type": "markdown",
      "source": [
        "### Q20: Comparison of Loudness Scores Across Genres"
      ],
      "metadata": {
        "id": "BJOaTuTuQsI3"
      }
    },
    {
      "cell_type": "code",
      "source": [
        "# Create a box plot for loudness comparison across the genres\n",
        "plt.figure(figsize=(10, 5))\n",
        "sns.boxplot(data=df_filtered, x='genre', y='loudness', order=genres_to_compare)\n",
        "plt.title(\"Loudness Comparison Across Genres\")\n",
        "plt.xlabel(\"Genre\")\n",
        "plt.ylabel(\"Loudness Score\")\n",
        "plt.show()\n"
      ],
      "metadata": {
        "colab": {
          "base_uri": "https://localhost:8080/",
          "height": 487
        },
        "id": "LIBsZib9Qg_P",
        "outputId": "79c56ea9-bd3d-4dac-d289-0d63c9bd99ac"
      },
      "execution_count": 75,
      "outputs": [
        {
          "output_type": "display_data",
          "data": {
            "text/plain": [
              "<Figure size 1000x500 with 1 Axes>"
            ],
            "image/png": "[encoded data removed]"
          },
          "metadata": {}
        }
      ]
    },
    {
      "cell_type": "markdown",
      "source": [
        "### Q21: Comparison of Acousticness Scores Across Genres"
      ],
      "metadata": {
        "id": "VGp1wFrdQ4F1"
      }
    },
    {
      "cell_type": "code",
      "source": [
        "# Create a box plot for acousticness comparison across the genres\n",
        "plt.figure(figsize=(10, 5))\n",
        "sns.boxplot(data=df_filtered, x='genre', y='acousticness', order=genres_to_compare)\n",
        "plt.title(\"Acousticness Comparison Across Genres\")\n",
        "plt.xlabel(\"Genre\")\n",
        "plt.ylabel(\"Acousticness Score\")\n",
        "plt.show()\n"
      ],
      "metadata": {
        "colab": {
          "base_uri": "https://localhost:8080/",
          "height": 487
        },
        "id": "BteMUU3kRFuZ",
        "outputId": "8b3ed1b6-2b50-4eb5-d1f9-7e2e7421c35a"
      },
      "execution_count": 76,
      "outputs": [
        {
          "output_type": "display_data",
          "data": {
            "text/plain": [
              "<Figure size 1000x500 with 1 Axes>"
            ],
            "image/png": "[encoded data removed]"
          },
          "metadata": {}
        }
      ]
    },
    {
      "cell_type": "markdown",
      "source": [
        "# Analysis Summary"
      ],
      "metadata": {
        "id": "JjYM8nbKRgHE"
      }
    },
    {
      "cell_type": "code",
      "source": [
        "# Analysis Summary\n",
        "print(\"\\nSummary of Results and Analysis:\")\n",
        "print(f\"\"\"\n",
        "- We observed that the most popular genre is {most_popular_genre}, and the artist with the most tracks is {most_popular_artist}.\n",
        "- There are {unique_artists} unique artists and {unique_albums} unique albums in the top 50 list.\n",
        "- The longest track is '{longest_track['track_name']}' and the shortest is '{shortest_track['track_name']}'.\n",
        "- The dataset has a mix of highly correlated and weakly correlated features, particularly {strong_positive_corr} and {strong_negative_corr}.\n",
        "- Further analysis could involve a detailed study of genre-based distributions and feature relationships.\n",
        "\"\"\")"
      ],
      "metadata": {
        "colab": {
          "base_uri": "https://localhost:8080/"
        },
        "id": "fVGa5otDbmlF",
        "outputId": "f4d1b28e-075e-4be8-97d8-2587195112e3"
      },
      "execution_count": 78,
      "outputs": [
        {
          "output_type": "stream",
          "name": "stdout",
          "text": [
            "\n",
            "Summary of Results and Analysis:\n",
            "\n",
            "- We observed that the most popular genre is Pop, and the artist with the most tracks is Dua Lipa.\n",
            "- There are 37 unique artists and 40 unique albums in the top 50 list.\n",
            "- The longest track is 'Safaera' and the shortest is 'Mood (feat. iann dior)'.\n",
            "- The dataset has a mix of highly correlated and weakly correlated features, particularly energy    loudness    0.764852\n",
            "loudness  energy      0.764852\n",
            "dtype: float64 and Series([], dtype: float64).\n",
            "- Further analysis could involve a detailed study of genre-based distributions and feature relationships.\n",
            "\n"
          ]
        }
      ]
    },
    {
      "cell_type": "markdown",
      "source": [
        "\n",
        "\n",
        "## Suggestions for Improvement\n",
        "- **Expand Dataset**: Including a broader time frame or more tracks could provide a more comprehensive analysis.\n",
        "- **Additional Features**: Exploring social media engagement or regional popularity data could offer deeper insights.\n",
        "- **Advanced Analysis**: Employing machine learning to predict potential hit songs based on feature analysis."
      ],
      "metadata": {
        "id": "aNZOZdJ4GxE1"
      }
    }
  ]
}